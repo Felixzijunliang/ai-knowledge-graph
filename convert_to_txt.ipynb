{
 "cells": [
  {
   "cell_type": "code",
   "execution_count": 9,
   "id": "3527e0f2",
   "metadata": {},
   "outputs": [
    {
     "name": "stdout",
     "output_type": "stream",
     "text": [
      "✅ 已成功保存为: ./output\\代理计证.txt\n"
     ]
    }
   ],
   "source": [
    "import os\n",
    "from docx import Document\n",
    "import PyPDF2\n",
    "import openpyxl\n",
    "from pptx import Presentation\n",
    "\n",
    "def read_docx(file_path):\n",
    "    doc = Document(file_path)\n",
    "    return '\\n'.join(paragraph.text for paragraph in doc.paragraphs)\n",
    "\n",
    "def read_pdf(file_path):\n",
    "    with open(file_path, 'rb') as f:\n",
    "        reader = PyPDF2.PdfReader(f)\n",
    "        text = ''\n",
    "        for page in reader.pages:\n",
    "            text += page.extract_text() + '\\n'\n",
    "        return text\n",
    "\n",
    "def read_xlsx(file_path):\n",
    "    wb = openpyxl.load_workbook(file_path)\n",
    "    text = ''\n",
    "    for sheet in wb.sheetnames:\n",
    "        ws = wb[sheet]\n",
    "        for row in ws.iter_rows(values_only=True):\n",
    "            text += '\\t'.join(str(cell) if cell is not None else '' for cell in row) + '\\n'\n",
    "    return text\n",
    "\n",
    "def read_pptx(file_path):\n",
    "    prs = Presentation(file_path)\n",
    "    text = ''\n",
    "    for slide in prs.slides:\n",
    "        for shape in slide.shapes:\n",
    "            if hasattr(shape, \"text\"):\n",
    "                text += shape.text + '\\n'\n",
    "    return text\n",
    "\n",
    "def convert_to_txt(input_path, output_folder):\n",
    "    if not os.path.exists(output_folder):\n",
    "        os.makedirs(output_folder)\n",
    "\n",
    "    base_name = os.path.splitext(os.path.basename(input_path))[0]\n",
    "    output_path = os.path.join(output_folder, f\"{base_name}.txt\")\n",
    "\n",
    "    ext = os.path.splitext(input_path)[1].lower()\n",
    "\n",
    "    try:\n",
    "        if ext == '.docx':\n",
    "            content = read_docx(input_path)\n",
    "        elif ext == '.pdf':\n",
    "            content = read_pdf(input_path)\n",
    "        elif ext == '.xlsx':\n",
    "            content = read_xlsx(input_path)\n",
    "        elif ext == '.pptx':\n",
    "            content = read_pptx(input_path)\n",
    "        else:\n",
    "            print(f\"❌ 不支持的文件格式: {ext}\")\n",
    "            return\n",
    "\n",
    "        with open(output_path, 'w', encoding='utf-8') as f:\n",
    "            f.write(content)\n",
    "\n",
    "        print(f\"✅ 已成功保存为: {output_path}\")\n",
    "\n",
    "    except Exception as e:\n",
    "        print(f\"❌ 处理文件时出错: {e}\")\n",
    "\n",
    "# 固定路径测试方式\n",
    "input_file = \"E:/2025金种子/knowledege_graph/代理计证.pdf\"\n",
    "output_dir = \"./output\"\n",
    "convert_to_txt(input_file, output_dir)"
   ]
  }
 ],
 "metadata": {
  "kernelspec": {
   "display_name": "transfomers",
   "language": "python",
   "name": "python3"
  },
  "language_info": {
   "codemirror_mode": {
    "name": "ipython",
    "version": 3
   },
   "file_extension": ".py",
   "mimetype": "text/x-python",
   "name": "python",
   "nbconvert_exporter": "python",
   "pygments_lexer": "ipython3",
   "version": "3.9.18"
  }
 },
 "nbformat": 4,
 "nbformat_minor": 5
}
